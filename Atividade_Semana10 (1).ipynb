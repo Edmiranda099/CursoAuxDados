{
  "cells": [
    {
      "cell_type": "markdown",
      "metadata": {
        "id": "bPISwE0Is_Pu"
      },
      "source": [
        "# Atividade da Semana 10\n",
        "\n",
        "Esta é atividade semanal sugerida. Você deverá preenchê-la e enviá-la dentro do prazo (até o fechamento da semana corrente)."
      ]
    },
    {
      "cell_type": "code",
      "execution_count": 2,
      "metadata": {
        "id": "LhLlbeEeUTSV"
      },
      "outputs": [
        {
          "name": "stdout",
          "output_type": "stream",
          "text": [
            "Requirement already satisfied: ipeadatapy in c:\\users\\edson\\anaconda3\\lib\\site-packages (0.1.9)\n",
            "Requirement already satisfied: pandas in c:\\users\\edson\\anaconda3\\lib\\site-packages (from ipeadatapy) (2.2.2)\n",
            "Requirement already satisfied: requests in c:\\users\\edson\\anaconda3\\lib\\site-packages (from ipeadatapy) (2.32.3)\n",
            "Requirement already satisfied: numpy>=1.26.0 in c:\\users\\edson\\anaconda3\\lib\\site-packages (from pandas->ipeadatapy) (1.26.4)\n",
            "Requirement already satisfied: python-dateutil>=2.8.2 in c:\\users\\edson\\anaconda3\\lib\\site-packages (from pandas->ipeadatapy) (2.9.0.post0)\n",
            "Requirement already satisfied: pytz>=2020.1 in c:\\users\\edson\\anaconda3\\lib\\site-packages (from pandas->ipeadatapy) (2024.1)\n",
            "Requirement already satisfied: tzdata>=2022.7 in c:\\users\\edson\\anaconda3\\lib\\site-packages (from pandas->ipeadatapy) (2023.3)\n",
            "Requirement already satisfied: charset-normalizer<4,>=2 in c:\\users\\edson\\anaconda3\\lib\\site-packages (from requests->ipeadatapy) (3.3.2)\n",
            "Requirement already satisfied: idna<4,>=2.5 in c:\\users\\edson\\anaconda3\\lib\\site-packages (from requests->ipeadatapy) (3.7)\n",
            "Requirement already satisfied: urllib3<3,>=1.21.1 in c:\\users\\edson\\anaconda3\\lib\\site-packages (from requests->ipeadatapy) (2.2.3)\n",
            "Requirement already satisfied: certifi>=2017.4.17 in c:\\users\\edson\\anaconda3\\lib\\site-packages (from requests->ipeadatapy) (2024.8.30)\n",
            "Requirement already satisfied: six>=1.5 in c:\\users\\edson\\anaconda3\\lib\\site-packages (from python-dateutil>=2.8.2->pandas->ipeadatapy) (1.16.0)\n"
          ]
        }
      ],
      "source": [
        "# Instalando o pacote 'ipeadatapy'\n",
        "!pip install ipeadatapy"
      ]
    },
    {
      "cell_type": "code",
      "execution_count": 3,
      "metadata": {
        "id": "izFFVN2Nst-F"
      },
      "outputs": [
        {
          "data": {
            "text/html": [
              "<div>\n",
              "<style scoped>\n",
              "    .dataframe tbody tr th:only-of-type {\n",
              "        vertical-align: middle;\n",
              "    }\n",
              "\n",
              "    .dataframe tbody tr th {\n",
              "        vertical-align: top;\n",
              "    }\n",
              "\n",
              "    .dataframe thead th {\n",
              "        text-align: right;\n",
              "    }\n",
              "</style>\n",
              "<table border=\"1\" class=\"dataframe\">\n",
              "  <thead>\n",
              "    <tr style=\"text-align: right;\">\n",
              "      <th></th>\n",
              "      <th>emplacamentos</th>\n",
              "      <th>ipi</th>\n",
              "    </tr>\n",
              "  </thead>\n",
              "  <tbody>\n",
              "    <tr>\n",
              "      <th>0</th>\n",
              "      <td>208143.0</td>\n",
              "      <td>5420.927715</td>\n",
              "    </tr>\n",
              "    <tr>\n",
              "      <th>1</th>\n",
              "      <td>154923.0</td>\n",
              "      <td>3487.420789</td>\n",
              "    </tr>\n",
              "    <tr>\n",
              "      <th>2</th>\n",
              "      <td>196859.0</td>\n",
              "      <td>3863.072262</td>\n",
              "    </tr>\n",
              "    <tr>\n",
              "      <th>3</th>\n",
              "      <td>183761.0</td>\n",
              "      <td>4112.753906</td>\n",
              "    </tr>\n",
              "    <tr>\n",
              "      <th>4</th>\n",
              "      <td>180314.0</td>\n",
              "      <td>3887.146935</td>\n",
              "    </tr>\n",
              "    <tr>\n",
              "      <th>5</th>\n",
              "      <td>179639.0</td>\n",
              "      <td>3906.958252</td>\n",
              "    </tr>\n",
              "    <tr>\n",
              "      <th>6</th>\n",
              "      <td>189936.0</td>\n",
              "      <td>4018.125247</td>\n",
              "    </tr>\n",
              "    <tr>\n",
              "      <th>7</th>\n",
              "      <td>173864.0</td>\n",
              "      <td>3944.719600</td>\n",
              "    </tr>\n",
              "    <tr>\n",
              "      <th>8</th>\n",
              "      <td>167704.0</td>\n",
              "      <td>4298.873473</td>\n",
              "    </tr>\n",
              "    <tr>\n",
              "      <th>9</th>\n",
              "      <td>162069.0</td>\n",
              "      <td>4205.357606</td>\n",
              "    </tr>\n",
              "    <tr>\n",
              "      <th>10</th>\n",
              "      <td>166934.0</td>\n",
              "      <td>4008.560408</td>\n",
              "    </tr>\n",
              "    <tr>\n",
              "      <th>11</th>\n",
              "      <td>190471.0</td>\n",
              "      <td>4112.518801</td>\n",
              "    </tr>\n",
              "    <tr>\n",
              "      <th>12</th>\n",
              "      <td>130178.0</td>\n",
              "      <td>4115.077999</td>\n",
              "    </tr>\n",
              "    <tr>\n",
              "      <th>13</th>\n",
              "      <td>125072.0</td>\n",
              "      <td>3224.758719</td>\n",
              "    </tr>\n",
              "    <tr>\n",
              "      <th>14</th>\n",
              "      <td>153248.0</td>\n",
              "      <td>3575.087033</td>\n",
              "    </tr>\n",
              "    <tr>\n",
              "      <th>15</th>\n",
              "      <td>141645.0</td>\n",
              "      <td>3684.866862</td>\n",
              "    </tr>\n",
              "    <tr>\n",
              "      <th>16</th>\n",
              "      <td>145663.0</td>\n",
              "      <td>4079.496225</td>\n",
              "    </tr>\n",
              "    <tr>\n",
              "      <th>17</th>\n",
              "      <td>149569.0</td>\n",
              "      <td>3394.276302</td>\n",
              "    </tr>\n",
              "    <tr>\n",
              "      <th>18</th>\n",
              "      <td>156868.0</td>\n",
              "      <td>3320.076448</td>\n",
              "    </tr>\n",
              "    <tr>\n",
              "      <th>19</th>\n",
              "      <td>159599.0</td>\n",
              "      <td>3505.085216</td>\n",
              "    </tr>\n",
              "    <tr>\n",
              "      <th>20</th>\n",
              "      <td>138294.0</td>\n",
              "      <td>3724.236677</td>\n",
              "    </tr>\n",
              "    <tr>\n",
              "      <th>21</th>\n",
              "      <td>140245.0</td>\n",
              "      <td>3913.907754</td>\n",
              "    </tr>\n",
              "    <tr>\n",
              "      <th>22</th>\n",
              "      <td>157651.0</td>\n",
              "      <td>3945.196866</td>\n",
              "    </tr>\n",
              "    <tr>\n",
              "      <th>23</th>\n",
              "      <td>178828.0</td>\n",
              "      <td>4469.242154</td>\n",
              "    </tr>\n",
              "    <tr>\n",
              "      <th>24</th>\n",
              "      <td>130407.0</td>\n",
              "      <td>3804.753104</td>\n",
              "    </tr>\n",
              "    <tr>\n",
              "      <th>25</th>\n",
              "      <td>121302.0</td>\n",
              "      <td>3274.651932</td>\n",
              "    </tr>\n",
              "    <tr>\n",
              "      <th>26</th>\n",
              "      <td>168248.0</td>\n",
              "      <td>3742.428861</td>\n",
              "    </tr>\n",
              "    <tr>\n",
              "      <th>27</th>\n",
              "      <td>139361.0</td>\n",
              "      <td>4040.875797</td>\n",
              "    </tr>\n",
              "    <tr>\n",
              "      <th>28</th>\n",
              "      <td>174445.0</td>\n",
              "      <td>3692.751025</td>\n",
              "    </tr>\n",
              "    <tr>\n",
              "      <th>29</th>\n",
              "      <td>174408.0</td>\n",
              "      <td>4013.913923</td>\n",
              "    </tr>\n",
              "    <tr>\n",
              "      <th>30</th>\n",
              "      <td>164043.0</td>\n",
              "      <td>3893.336455</td>\n",
              "    </tr>\n",
              "    <tr>\n",
              "      <th>31</th>\n",
              "      <td>193057.0</td>\n",
              "      <td>3960.866281</td>\n",
              "    </tr>\n",
              "    <tr>\n",
              "      <th>32</th>\n",
              "      <td>178894.0</td>\n",
              "      <td>4369.767840</td>\n",
              "    </tr>\n",
              "    <tr>\n",
              "      <th>33</th>\n",
              "      <td>181919.0</td>\n",
              "      <td>4542.457251</td>\n",
              "    </tr>\n",
              "    <tr>\n",
              "      <th>34</th>\n",
              "      <td>182631.0</td>\n",
              "      <td>4647.780896</td>\n",
              "    </tr>\n",
              "    <tr>\n",
              "      <th>35</th>\n",
              "      <td>186858.0</td>\n",
              "      <td>4490.772517</td>\n",
              "    </tr>\n",
              "    <tr>\n",
              "      <th>36</th>\n",
              "      <td>160277.0</td>\n",
              "      <td>4655.949470</td>\n",
              "    </tr>\n",
              "    <tr>\n",
              "      <th>37</th>\n",
              "      <td>138510.0</td>\n",
              "      <td>3963.556667</td>\n",
              "    </tr>\n",
              "    <tr>\n",
              "      <th>38</th>\n",
              "      <td>182935.0</td>\n",
              "      <td>4191.062631</td>\n",
              "    </tr>\n",
              "    <tr>\n",
              "      <th>39</th>\n",
              "      <td>190515.0</td>\n",
              "      <td>4555.628445</td>\n",
              "    </tr>\n",
              "    <tr>\n",
              "      <th>40</th>\n",
              "      <td>175634.0</td>\n",
              "      <td>4238.025602</td>\n",
              "    </tr>\n",
              "    <tr>\n",
              "      <th>41</th>\n",
              "      <td>175796.0</td>\n",
              "      <td>4194.633944</td>\n",
              "    </tr>\n",
              "    <tr>\n",
              "      <th>42</th>\n",
              "      <td>190151.0</td>\n",
              "      <td>4887.616843</td>\n",
              "    </tr>\n",
              "    <tr>\n",
              "      <th>43</th>\n",
              "      <td>218208.0</td>\n",
              "      <td>4558.432000</td>\n",
              "    </tr>\n",
              "    <tr>\n",
              "      <th>44</th>\n",
              "      <td>186998.0</td>\n",
              "      <td>4698.292597</td>\n",
              "    </tr>\n",
              "    <tr>\n",
              "      <th>45</th>\n",
              "      <td>225700.0</td>\n",
              "      <td>4790.051397</td>\n",
              "    </tr>\n",
              "    <tr>\n",
              "      <th>46</th>\n",
              "      <td>205106.0</td>\n",
              "      <td>4996.562886</td>\n",
              "    </tr>\n",
              "    <tr>\n",
              "      <th>47</th>\n",
              "      <td>206089.0</td>\n",
              "      <td>4876.069178</td>\n",
              "    </tr>\n",
              "  </tbody>\n",
              "</table>\n",
              "</div>"
            ],
            "text/plain": [
              "    emplacamentos          ipi\n",
              "0        208143.0  5420.927715\n",
              "1        154923.0  3487.420789\n",
              "2        196859.0  3863.072262\n",
              "3        183761.0  4112.753906\n",
              "4        180314.0  3887.146935\n",
              "5        179639.0  3906.958252\n",
              "6        189936.0  4018.125247\n",
              "7        173864.0  3944.719600\n",
              "8        167704.0  4298.873473\n",
              "9        162069.0  4205.357606\n",
              "10       166934.0  4008.560408\n",
              "11       190471.0  4112.518801\n",
              "12       130178.0  4115.077999\n",
              "13       125072.0  3224.758719\n",
              "14       153248.0  3575.087033\n",
              "15       141645.0  3684.866862\n",
              "16       145663.0  4079.496225\n",
              "17       149569.0  3394.276302\n",
              "18       156868.0  3320.076448\n",
              "19       159599.0  3505.085216\n",
              "20       138294.0  3724.236677\n",
              "21       140245.0  3913.907754\n",
              "22       157651.0  3945.196866\n",
              "23       178828.0  4469.242154\n",
              "24       130407.0  3804.753104\n",
              "25       121302.0  3274.651932\n",
              "26       168248.0  3742.428861\n",
              "27       139361.0  4040.875797\n",
              "28       174445.0  3692.751025\n",
              "29       174408.0  4013.913923\n",
              "30       164043.0  3893.336455\n",
              "31       193057.0  3960.866281\n",
              "32       178894.0  4369.767840\n",
              "33       181919.0  4542.457251\n",
              "34       182631.0  4647.780896\n",
              "35       186858.0  4490.772517\n",
              "36       160277.0  4655.949470\n",
              "37       138510.0  3963.556667\n",
              "38       182935.0  4191.062631\n",
              "39       190515.0  4555.628445\n",
              "40       175634.0  4238.025602\n",
              "41       175796.0  4194.633944\n",
              "42       190151.0  4887.616843\n",
              "43       218208.0  4558.432000\n",
              "44       186998.0  4698.292597\n",
              "45       225700.0  4790.051397\n",
              "46       205106.0  4996.562886\n",
              "47       206089.0  4876.069178"
            ]
          },
          "execution_count": 3,
          "metadata": {},
          "output_type": "execute_result"
        }
      ],
      "source": [
        "# Carregando pacotes\n",
        "import pandas as pd\n",
        "import ipeadatapy\n",
        "import matplotlib.pyplot as plt\n",
        "\n",
        "# Obtendo serie com dados sobre emplacamento de veículos\n",
        "emplacamentos = ipeadatapy.timeseries('ANFAVE12_LICVEN12')\n",
        "emplacamentos.reset_index(inplace=True)\n",
        "emplacamentos = emplacamentos.loc[(\n",
        "    emplacamentos[\"DATE\"] >= \"2015-01-01\") & (emplacamentos[\"DATE\"] < \"2019-01-01\"),\n",
        "                                  \"VALUE (-)\"]\n",
        "emplacamentos.rename(\"emplacamentos\", inplace=True)\n",
        "\n",
        "# Obtendo serie com dados sobre IPI arrecadado sobre automóveis\n",
        "ipi = ipeadatapy.timeseries('SRF12_IPI12')\n",
        "ipi.reset_index(inplace=True)\n",
        "ipi = ipi.loc[(ipi[\"DATE\"] >= \"2015-01-01\") & (ipi[\"DATE\"] < \"2019-01-01\"),\n",
        "                                  \"VALUE (R$)\"]\n",
        "ipi.rename(\"ipi\", inplace=True)\n",
        "\n",
        "carros = pd.concat([emplacamentos.reset_index(drop=True),\n",
        "                    ipi.reset_index(drop=True)],\n",
        "                   axis=1)\n",
        "carros"
      ]
    },
    {
      "cell_type": "markdown",
      "metadata": {
        "id": "RAg7REeatl9X"
      },
      "source": [
        "###Questão 1\n",
        "\n",
        "Vamos relembrar o seguinte:\n",
        "\n",
        "> O número de veículos emplacados (ou seja, veículos que foram comprados novos) funciona como um indicador econômico que demonstra o poder aquisitivo da população em geral. Estes dados também são úteis como indicadores de saúde, uma vez que, uma frota mais nova, polui menos o ar e o número de casos de doenças respiratórias em grandes centros é reduzido.\n",
        "\n",
        "> O Imposto sobre Produtos Industrializados, cuja sigla é IPI, é um imposto federal, ou seja, somente a União pode instituí-lo ou modificá-lo, sobre produtos industrializados no Brasil.\n",
        "\n",
        "É possível utilizar uma regressão linear para estimar o `IPI` utilizando o `número de veículos emplacados`? Argumente utilizando alguma medida estatística para este fim.\n"
      ]
    },
    {
      "cell_type": "code",
      "execution_count": 8,
      "metadata": {
        "id": "RiMfakApHzFP"
      },
      "outputs": [],
      "source": [
        "# Questao 1\n",
        "\n",
        "\n"
      ]
    },
    {
      "cell_type": "markdown",
      "metadata": {
        "id": "3xNawcemugMY"
      },
      "source": [
        "###Questão 2\n",
        "\n",
        "Crie uma base de `treinamento` e de `teste` para o ajuste de um modelo linear. Utilize 70% dos dados como conjunto de treinamento.\n"
      ]
    },
    {
      "cell_type": "code",
      "execution_count": 9,
      "metadata": {
        "id": "x8g4GMufHvuL"
      },
      "outputs": [
        {
          "name": "stdout",
          "output_type": "stream",
          "text": [
            "DataFrame de treino (70%):  (33, 2)\n",
            "DataFrame de teste (30%):  (15, 2)\n",
            "DataFrame Original - df_qtd_tempo(100%):  (48, 2)\n"
          ]
        }
      ],
      "source": [
        "# Questao 2\n",
        "from sklearn.model_selection import train_test_split\n",
        "\n",
        "# Definindo conjunto de treino e teste simultaneamente\n",
        "# Aqui, o conjunto de treino sera 80% dos dados\n",
        "treino, teste = train_test_split(carros ,\n",
        "                                 train_size = 0.70,\n",
        "                                 random_state = 123)\n",
        "# random_state = 123 foi escolhido aleatoriamente\n",
        "# use o numero que achar melhor\n",
        "\n",
        "print('DataFrame de treino (70%): ',treino.shape)\n",
        "print('DataFrame de teste (30%): ',teste.shape)\n",
        "print(\"DataFrame Original - df_qtd_tempo(100%): \", carros.shape)\n",
        "\n",
        "\n",
        "\n"
      ]
    },
    {
      "cell_type": "markdown",
      "metadata": {
        "id": "sbXN8AoMuxvx"
      },
      "source": [
        "###Questão 3\n",
        "\n",
        "Treine o modelo linear utilizando a base de `treino`."
      ]
    },
    {
      "cell_type": "code",
      "execution_count": 12,
      "metadata": {
        "id": "YxUJOpR2uyFh"
      },
      "outputs": [
        {
          "name": "stdout",
          "output_type": "stream",
          "text": [
            "LinearRegression()\n"
          ]
        }
      ],
      "source": [
        "# Questao 3\n",
        "import numpy as np\n",
        "from sklearn.linear_model import LinearRegression\n",
        "import statsmodels.api as sm\n",
        "\n",
        "# Definindo input e output - treinamento\n",
        "X_treino = sm.add_constant(treino['emplacamentos'])\n",
        "y_treino = treino['ipi']\n",
        "\n",
        "# Definindo o modelo de regressao linear\n",
        "reg = LinearRegression()\n",
        "\n",
        "# Estimando o modelo\n",
        "modelo_estimado = reg.fit(X = X_treino,\n",
        "                          y = y_treino)\n",
        "\n",
        "print(modelo_estimado)\n",
        "\n"
      ]
    },
    {
      "cell_type": "markdown",
      "metadata": {
        "id": "b_9DPA3nRV0W"
      },
      "source": [
        "###Questão 4\n",
        "\n",
        "Avalie a `performance` do modelo estimado através do **coeficiente de determinação** $R^2$.\n",
        "*    Qual percentual de variabilidade do `IPI` é explicado pelo `número de emplacamentos`?\n",
        "*    O que esse valor calculado representa?\n"
      ]
    },
    {
      "cell_type": "code",
      "execution_count": 13,
      "metadata": {
        "id": "WhlmC6LESPca"
      },
      "outputs": [
        {
          "data": {
            "text/plain": [
              "0.5580980594176892"
            ]
          },
          "execution_count": 13,
          "metadata": {},
          "output_type": "execute_result"
        }
      ],
      "source": [
        "# Questao 4\n",
        "\n",
        "modelo_estimado.score(X = X_treino, y = y_treino)\n"
      ]
    },
    {
      "cell_type": "markdown",
      "metadata": {
        "id": "8LNVxN-DvqpU"
      },
      "source": [
        "###Questão 5\n",
        "\n",
        "Faça a previsão para o conjunto de teste.\n",
        "*    Calcule o $R^2$ para estes resultados\n",
        "*    Faça o gráfico que exibe os dados observados e a reta estimada pelo modelo linear"
      ]
    },
    {
      "cell_type": "code",
      "execution_count": 21,
      "metadata": {
        "id": "L6rN0nSwJyl0"
      },
      "outputs": [
        {
          "name": "stdout",
          "output_type": "stream",
          "text": [
            "1630.905739124983\n",
            "0.014813598940490653\n",
            "[3954.68537772 3483.67218581 4123.26413366 4490.77470978 4103.79906466\n",
            " 4232.67737544 4453.11854127 4115.20553584 4452.46674292 4292.0058392\n",
            " 3925.87292778 4444.54146749 3695.34370107 4398.94520995 3559.310422  ]\n"
          ]
        },
        {
          "data": {
            "image/png": "[encoded data removed]",
            "text/plain": [
              "<Figure size 640x480 with 1 Axes>"
            ]
          },
          "metadata": {},
          "output_type": "display_data"
        }
      ],
      "source": [
        "# Questao 5\n",
        "\n",
        "\n",
        "# alfa (tambem chamado de intercepto)\n",
        "alfa = modelo_estimado.intercept_\n",
        "\n",
        "# beta\n",
        "beta = modelo_estimado.coef_[1]\n",
        "\n",
        "print(alfa)\n",
        "print(beta)\n",
        "\n",
        "\n",
        "# Definindo input e output - teste\n",
        "X_teste = sm.add_constant(teste['emplacamentos'])\n",
        "y_teste = teste['ipi']\n",
        "\n",
        "# Previsao\n",
        "previsao = modelo_estimado.predict(X = X_teste)\n",
        "print(previsao)\n",
        "\n",
        "\n",
        "#calculo R2\n",
        "modelo_estimado.score(X = X_teste, y = y_teste)\n",
        "\n",
        "\n",
        "# Grafico de dispersao - conjunto de teste\n",
        "teste.plot.scatter(x = 'emplacamentos', y = 'ipi', label='Observado')\n",
        "\n",
        "# Desenhando a linha de previsao\n",
        "x_prev = np.linspace(teste['emplacamentos'].min(),\n",
        "                     teste['emplacamentos'].max(),\n",
        "                     100).reshape(-1, 1)\n",
        "y_prev = alfa + beta * x_prev\n",
        "plt.plot(x_prev, y_prev, color='red', label='Modelo estimado')\n",
        "\n",
        "# Rotulos e titulo\n",
        "plt.xlabel(\"emplacamentos\")\n",
        "plt.ylabel(\"ipi\")\n",
        "plt.title('Dados Observados')\n",
        "\n",
        "# Legenda\n",
        "plt.legend()\n",
        "\n",
        "# Exibindo o grafico\n",
        "plt.show()"
      ]
    }
  ],
  "metadata": {
    "colab": {
      "provenance": []
    },
    "kernelspec": {
      "display_name": "base",
      "language": "python",
      "name": "python3"
    },
    "language_info": {
      "codemirror_mode": {
        "name": "ipython",
        "version": 3
      },
      "file_extension": ".py",
      "mimetype": "text/x-python",
      "name": "python",
      "nbconvert_exporter": "python",
      "pygments_lexer": "ipython3",
      "version": "3.12.7"
    }
  },
  "nbformat": 4,
  "nbformat_minor": 0
}
