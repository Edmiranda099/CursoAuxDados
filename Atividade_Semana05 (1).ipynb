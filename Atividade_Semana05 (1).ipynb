{
 "cells": [
  {
   "cell_type": "markdown",
   "metadata": {
    "id": "bPISwE0Is_Pu"
   },
   "source": [
    "# Atividade - Semana 05 - Obtendo dados\n",
    "\n",
    "Esta é atividade semanal sugerida. Você deverá preenchê-la e enviá-la dentro do prazo (até o fechamento da semana corrente)."
   ]
  },
  {
   "cell_type": "markdown",
   "metadata": {
    "id": "RAg7REeatl9X"
   },
   "source": [
    "###Questão 1\n",
    "\n",
    "Importe a planilha `dados_credito.csv` na pasta virtual `content`."
   ]
  },
  {
   "cell_type": "code",
   "execution_count": 9,
   "metadata": {
    "id": "izFFVN2Nst-F"
   },
   "outputs": [],
   "source": [
    "# Questao 1\n",
    "import pandas as pd\n",
    "\n",
    "df = pd.read_csv('dados_credito.CSV')\n"
   ]
  },
  {
   "cell_type": "markdown",
   "metadata": {
    "id": "3xNawcemugMY"
   },
   "source": [
    "###Questão 2\n",
    "\n",
    "Instale o pacote `ibge` utilizando `pip`.\n",
    "\n",
    "(use `!` antes do `pip`)"
   ]
  },
  {
   "cell_type": "code",
   "execution_count": 13,
   "metadata": {
    "id": "yVxFX6kPuu6Z"
   },
   "outputs": [
    {
     "name": "stdout",
     "output_type": "stream",
     "text": [
      "Collecting ibge\n",
      "  Downloading ibge-0.0.5-py3-none-any.whl.metadata (18 kB)\n",
      "Requirement already satisfied: requests in c:\\users\\edson\\anaconda3\\lib\\site-packages (from ibge) (2.32.3)\n",
      "Requirement already satisfied: charset-normalizer<4,>=2 in c:\\users\\edson\\anaconda3\\lib\\site-packages (from requests->ibge) (3.3.2)\n",
      "Requirement already satisfied: idna<4,>=2.5 in c:\\users\\edson\\anaconda3\\lib\\site-packages (from requests->ibge) (3.7)\n",
      "Requirement already satisfied: urllib3<3,>=1.21.1 in c:\\users\\edson\\anaconda3\\lib\\site-packages (from requests->ibge) (2.2.3)\n",
      "Requirement already satisfied: certifi>=2017.4.17 in c:\\users\\edson\\anaconda3\\lib\\site-packages (from requests->ibge) (2024.8.30)\n",
      "Downloading ibge-0.0.5-py3-none-any.whl (6.4 kB)\n",
      "Installing collected packages: ibge\n",
      "Successfully installed ibge-0.0.5\n"
     ]
    }
   ],
   "source": [
    "# Questao 2\n",
    "\n",
    "!pip install ibge"
   ]
  },
  {
   "cell_type": "markdown",
   "metadata": {
    "id": "sbXN8AoMuxvx"
   },
   "source": [
    "###Questão 3\n",
    "\n",
    "Similar ao feito no *script da semana 05*, busque informações sobre Estados diretamente do IBGE utilizando a função `Estados()`.\n",
    "\n",
    "(Não esqueça de importar o pacote corretamente)\n",
    "\n",
    "(Troque o comando `Municipios()` por `Estados()` utilizando o script da semana 05)"
   ]
  },
  {
   "cell_type": "code",
   "execution_count": 25,
   "metadata": {
    "id": "YxUJOpR2uyFh"
   },
   "outputs": [],
   "source": [
    "# Questao 3\n",
    "from ibge.localidades import *\n",
    "Estad = Estados()\n",
    "df_Estad = pd.json_normalize(Estad.json())\n"
   ]
  },
  {
   "cell_type": "markdown",
   "metadata": {
    "id": "8LNVxN-DvqpU"
   },
   "source": [
    "###Questão 4\n",
    "\n",
    "Instale o pacote `sgs` utilizando `pip`.\n",
    "\n",
    "(use `!` antes do `pip`)"
   ]
  },
  {
   "cell_type": "code",
   "execution_count": 27,
   "metadata": {
    "id": "lXTKOd3pvrmT"
   },
   "outputs": [
    {
     "name": "stdout",
     "output_type": "stream",
     "text": [
      "Requirement already satisfied: sgs in c:\\users\\edson\\anaconda3\\lib\\site-packages (2.1.1)\n",
      "Requirement already satisfied: beautifulsoup4>=4.7.1 in c:\\users\\edson\\anaconda3\\lib\\site-packages (from sgs) (4.12.3)\n",
      "Requirement already satisfied: html5lib>=1.0.1 in c:\\users\\edson\\anaconda3\\lib\\site-packages (from sgs) (1.1)\n",
      "Requirement already satisfied: pandas>=0.24.2 in c:\\users\\edson\\anaconda3\\lib\\site-packages (from sgs) (2.2.2)\n",
      "Requirement already satisfied: retrying>=1.3.3 in c:\\users\\edson\\anaconda3\\lib\\site-packages (from sgs) (1.3.4)\n",
      "Requirement already satisfied: requests>=2.22.0 in c:\\users\\edson\\anaconda3\\lib\\site-packages (from sgs) (2.32.3)\n",
      "Requirement already satisfied: soupsieve>1.2 in c:\\users\\edson\\anaconda3\\lib\\site-packages (from beautifulsoup4>=4.7.1->sgs) (2.5)\n",
      "Requirement already satisfied: six>=1.9 in c:\\users\\edson\\anaconda3\\lib\\site-packages (from html5lib>=1.0.1->sgs) (1.16.0)\n",
      "Requirement already satisfied: webencodings in c:\\users\\edson\\anaconda3\\lib\\site-packages (from html5lib>=1.0.1->sgs) (0.5.1)\n",
      "Requirement already satisfied: numpy>=1.26.0 in c:\\users\\edson\\anaconda3\\lib\\site-packages (from pandas>=0.24.2->sgs) (1.26.4)\n",
      "Requirement already satisfied: python-dateutil>=2.8.2 in c:\\users\\edson\\anaconda3\\lib\\site-packages (from pandas>=0.24.2->sgs) (2.9.0.post0)\n",
      "Requirement already satisfied: pytz>=2020.1 in c:\\users\\edson\\anaconda3\\lib\\site-packages (from pandas>=0.24.2->sgs) (2024.1)\n",
      "Requirement already satisfied: tzdata>=2022.7 in c:\\users\\edson\\anaconda3\\lib\\site-packages (from pandas>=0.24.2->sgs) (2023.3)\n",
      "Requirement already satisfied: charset-normalizer<4,>=2 in c:\\users\\edson\\anaconda3\\lib\\site-packages (from requests>=2.22.0->sgs) (3.3.2)\n",
      "Requirement already satisfied: idna<4,>=2.5 in c:\\users\\edson\\anaconda3\\lib\\site-packages (from requests>=2.22.0->sgs) (3.7)\n",
      "Requirement already satisfied: urllib3<3,>=1.21.1 in c:\\users\\edson\\anaconda3\\lib\\site-packages (from requests>=2.22.0->sgs) (2.2.3)\n",
      "Requirement already satisfied: certifi>=2017.4.17 in c:\\users\\edson\\anaconda3\\lib\\site-packages (from requests>=2.22.0->sgs) (2024.8.30)\n"
     ]
    }
   ],
   "source": [
    "# Questao 4\n",
    "!pip install sgs\n"
   ]
  },
  {
   "cell_type": "markdown",
   "metadata": {
    "id": "xN2tPWT00uUh"
   },
   "source": [
    "###Questão 5\n",
    "\n",
    "Similar ao feito no *script da semana 05*, busque informações no sistema `sgs` sobre o _salário mínimo histórico_ **de 01/01/1990 a 01/03/2023** (código da série: 1619)\n",
    "\n",
    "(Não esqueça de importar o pacote corretamente)"
   ]
  },
  {
   "cell_type": "code",
   "execution_count": 31,
   "metadata": {
    "id": "AQQqfAqV0vQZ"
   },
   "outputs": [
    {
     "data": {
      "text/html": [
       "<div>\n",
       "<style scoped>\n",
       "    .dataframe tbody tr th:only-of-type {\n",
       "        vertical-align: middle;\n",
       "    }\n",
       "\n",
       "    .dataframe tbody tr th {\n",
       "        vertical-align: top;\n",
       "    }\n",
       "\n",
       "    .dataframe thead th {\n",
       "        text-align: right;\n",
       "    }\n",
       "</style>\n",
       "<table border=\"1\" class=\"dataframe\">\n",
       "  <thead>\n",
       "    <tr style=\"text-align: right;\">\n",
       "      <th></th>\n",
       "      <th>1619</th>\n",
       "    </tr>\n",
       "  </thead>\n",
       "  <tbody>\n",
       "    <tr>\n",
       "      <th>1990-02-01</th>\n",
       "      <td>2004.37</td>\n",
       "    </tr>\n",
       "    <tr>\n",
       "      <th>1990-03-01</th>\n",
       "      <td>3674.06</td>\n",
       "    </tr>\n",
       "    <tr>\n",
       "      <th>1990-04-01</th>\n",
       "      <td>3674.06</td>\n",
       "    </tr>\n",
       "    <tr>\n",
       "      <th>1990-05-01</th>\n",
       "      <td>3674.06</td>\n",
       "    </tr>\n",
       "    <tr>\n",
       "      <th>1990-06-01</th>\n",
       "      <td>3857.76</td>\n",
       "    </tr>\n",
       "    <tr>\n",
       "      <th>...</th>\n",
       "      <td>...</td>\n",
       "    </tr>\n",
       "    <tr>\n",
       "      <th>2022-11-01</th>\n",
       "      <td>1212.00</td>\n",
       "    </tr>\n",
       "    <tr>\n",
       "      <th>2022-12-01</th>\n",
       "      <td>1212.00</td>\n",
       "    </tr>\n",
       "    <tr>\n",
       "      <th>2023-01-01</th>\n",
       "      <td>1302.00</td>\n",
       "    </tr>\n",
       "    <tr>\n",
       "      <th>2023-02-01</th>\n",
       "      <td>1302.00</td>\n",
       "    </tr>\n",
       "    <tr>\n",
       "      <th>2023-03-01</th>\n",
       "      <td>1302.00</td>\n",
       "    </tr>\n",
       "  </tbody>\n",
       "</table>\n",
       "<p>398 rows × 1 columns</p>\n",
       "</div>"
      ],
      "text/plain": [
       "               1619\n",
       "1990-02-01  2004.37\n",
       "1990-03-01  3674.06\n",
       "1990-04-01  3674.06\n",
       "1990-05-01  3674.06\n",
       "1990-06-01  3857.76\n",
       "...             ...\n",
       "2022-11-01  1212.00\n",
       "2022-12-01  1212.00\n",
       "2023-01-01  1302.00\n",
       "2023-02-01  1302.00\n",
       "2023-03-01  1302.00\n",
       "\n",
       "[398 rows x 1 columns]"
      ]
     },
     "metadata": {},
     "output_type": "display_data"
    }
   ],
   "source": [
    "# Questao 5\n",
    "import sgs\n",
    "\n",
    "df_salario = sgs.dataframe(1619, start = '01/01/1990', end = '01/03/2023')\n",
    "display(df_salario)\n"
   ]
  },
  {
   "cell_type": "markdown",
   "metadata": {
    "id": "ro2q0mTU0vYQ"
   },
   "source": [
    "###Questão 6\n",
    "\n",
    "Instale o pacote `ipeadatapy` utilizando `pip`.\n",
    "\n",
    "(use `!` antes do `pip`)"
   ]
  },
  {
   "cell_type": "code",
   "execution_count": 33,
   "metadata": {
    "id": "XqEC26H-0vg5"
   },
   "outputs": [
    {
     "name": "stdout",
     "output_type": "stream",
     "text": [
      "Requirement already satisfied: ipeadatapy in c:\\users\\edson\\anaconda3\\lib\\site-packages (0.1.9)\n",
      "Requirement already satisfied: pandas in c:\\users\\edson\\anaconda3\\lib\\site-packages (from ipeadatapy) (2.2.2)\n",
      "Requirement already satisfied: requests in c:\\users\\edson\\anaconda3\\lib\\site-packages (from ipeadatapy) (2.32.3)\n",
      "Requirement already satisfied: numpy>=1.26.0 in c:\\users\\edson\\anaconda3\\lib\\site-packages (from pandas->ipeadatapy) (1.26.4)\n",
      "Requirement already satisfied: python-dateutil>=2.8.2 in c:\\users\\edson\\anaconda3\\lib\\site-packages (from pandas->ipeadatapy) (2.9.0.post0)\n",
      "Requirement already satisfied: pytz>=2020.1 in c:\\users\\edson\\anaconda3\\lib\\site-packages (from pandas->ipeadatapy) (2024.1)\n",
      "Requirement already satisfied: tzdata>=2022.7 in c:\\users\\edson\\anaconda3\\lib\\site-packages (from pandas->ipeadatapy) (2023.3)\n",
      "Requirement already satisfied: charset-normalizer<4,>=2 in c:\\users\\edson\\anaconda3\\lib\\site-packages (from requests->ipeadatapy) (3.3.2)\n",
      "Requirement already satisfied: idna<4,>=2.5 in c:\\users\\edson\\anaconda3\\lib\\site-packages (from requests->ipeadatapy) (3.7)\n",
      "Requirement already satisfied: urllib3<3,>=1.21.1 in c:\\users\\edson\\anaconda3\\lib\\site-packages (from requests->ipeadatapy) (2.2.3)\n",
      "Requirement already satisfied: certifi>=2017.4.17 in c:\\users\\edson\\anaconda3\\lib\\site-packages (from requests->ipeadatapy) (2024.8.30)\n",
      "Requirement already satisfied: six>=1.5 in c:\\users\\edson\\anaconda3\\lib\\site-packages (from python-dateutil>=2.8.2->pandas->ipeadatapy) (1.16.0)\n"
     ]
    }
   ],
   "source": [
    "# Questao 6\n",
    "!pip install ipeadatapy\n"
   ]
  },
  {
   "cell_type": "markdown",
   "metadata": {
    "id": "Owr4-SNO0vnp"
   },
   "source": [
    "###Questão 7\n",
    "\n",
    "Similar ao feito no *script da semana 05*, busque informações na base `ipeadata` sobre a _produção de café no Brasil em toneladas_ (código da série: `LSPA_QCAFE`)\n",
    "\n",
    "(Não esqueça de importar o pacote corretamente)"
   ]
  },
  {
   "cell_type": "code",
   "execution_count": 2,
   "metadata": {
    "id": "I-vC-QZW0vua"
   },
   "outputs": [
    {
     "data": {
      "text/html": [
       "<div>\n",
       "<style scoped>\n",
       "    .dataframe tbody tr th:only-of-type {\n",
       "        vertical-align: middle;\n",
       "    }\n",
       "\n",
       "    .dataframe tbody tr th {\n",
       "        vertical-align: top;\n",
       "    }\n",
       "\n",
       "    .dataframe thead th {\n",
       "        text-align: right;\n",
       "    }\n",
       "</style>\n",
       "<table border=\"1\" class=\"dataframe\">\n",
       "  <thead>\n",
       "    <tr style=\"text-align: right;\">\n",
       "      <th></th>\n",
       "      <th>CODE</th>\n",
       "      <th>RAW DATE</th>\n",
       "      <th>DAY</th>\n",
       "      <th>MONTH</th>\n",
       "      <th>YEAR</th>\n",
       "      <th>VALUE (Tonelada)</th>\n",
       "    </tr>\n",
       "    <tr>\n",
       "      <th>DATE</th>\n",
       "      <th></th>\n",
       "      <th></th>\n",
       "      <th></th>\n",
       "      <th></th>\n",
       "      <th></th>\n",
       "      <th></th>\n",
       "    </tr>\n",
       "  </thead>\n",
       "  <tbody>\n",
       "    <tr>\n",
       "      <th>1900-01-01</th>\n",
       "      <td>LSPA_QCAFE</td>\n",
       "      <td>1900-01-01T00:00:00-02:00</td>\n",
       "      <td>1</td>\n",
       "      <td>1</td>\n",
       "      <td>1900</td>\n",
       "      <td>564000.0</td>\n",
       "    </tr>\n",
       "    <tr>\n",
       "      <th>1901-01-01</th>\n",
       "      <td>LSPA_QCAFE</td>\n",
       "      <td>1901-01-01T00:00:00-02:00</td>\n",
       "      <td>1</td>\n",
       "      <td>1</td>\n",
       "      <td>1901</td>\n",
       "      <td>678000.0</td>\n",
       "    </tr>\n",
       "    <tr>\n",
       "      <th>1902-01-01</th>\n",
       "      <td>LSPA_QCAFE</td>\n",
       "      <td>1902-01-01T00:00:00-02:00</td>\n",
       "      <td>1</td>\n",
       "      <td>1</td>\n",
       "      <td>1902</td>\n",
       "      <td>966000.0</td>\n",
       "    </tr>\n",
       "    <tr>\n",
       "      <th>1903-01-01</th>\n",
       "      <td>LSPA_QCAFE</td>\n",
       "      <td>1903-01-01T00:00:00-02:00</td>\n",
       "      <td>1</td>\n",
       "      <td>1</td>\n",
       "      <td>1903</td>\n",
       "      <td>774000.0</td>\n",
       "    </tr>\n",
       "    <tr>\n",
       "      <th>1904-01-01</th>\n",
       "      <td>LSPA_QCAFE</td>\n",
       "      <td>1904-01-01T00:00:00-02:00</td>\n",
       "      <td>1</td>\n",
       "      <td>1</td>\n",
       "      <td>1904</td>\n",
       "      <td>666000.0</td>\n",
       "    </tr>\n",
       "    <tr>\n",
       "      <th>...</th>\n",
       "      <td>...</td>\n",
       "      <td>...</td>\n",
       "      <td>...</td>\n",
       "      <td>...</td>\n",
       "      <td>...</td>\n",
       "      <td>...</td>\n",
       "    </tr>\n",
       "    <tr>\n",
       "      <th>2019-01-01</th>\n",
       "      <td>LSPA_QCAFE</td>\n",
       "      <td>2019-01-01T00:00:00-02:00</td>\n",
       "      <td>1</td>\n",
       "      <td>1</td>\n",
       "      <td>2019</td>\n",
       "      <td>3011745.0</td>\n",
       "    </tr>\n",
       "    <tr>\n",
       "      <th>2020-01-01</th>\n",
       "      <td>LSPA_QCAFE</td>\n",
       "      <td>2020-01-01T00:00:00-03:00</td>\n",
       "      <td>1</td>\n",
       "      <td>1</td>\n",
       "      <td>2020</td>\n",
       "      <td>3705719.0</td>\n",
       "    </tr>\n",
       "    <tr>\n",
       "      <th>2021-01-01</th>\n",
       "      <td>LSPA_QCAFE</td>\n",
       "      <td>2021-01-01T00:00:00-03:00</td>\n",
       "      <td>1</td>\n",
       "      <td>1</td>\n",
       "      <td>2021</td>\n",
       "      <td>2985581.0</td>\n",
       "    </tr>\n",
       "    <tr>\n",
       "      <th>2022-01-01</th>\n",
       "      <td>LSPA_QCAFE</td>\n",
       "      <td>2022-01-01T00:00:00-03:00</td>\n",
       "      <td>1</td>\n",
       "      <td>1</td>\n",
       "      <td>2022</td>\n",
       "      <td>3179176.0</td>\n",
       "    </tr>\n",
       "    <tr>\n",
       "      <th>2023-01-01</th>\n",
       "      <td>LSPA_QCAFE</td>\n",
       "      <td>2023-01-01T00:00:00-03:00</td>\n",
       "      <td>1</td>\n",
       "      <td>1</td>\n",
       "      <td>2023</td>\n",
       "      <td>3405267.0</td>\n",
       "    </tr>\n",
       "  </tbody>\n",
       "</table>\n",
       "<p>124 rows × 6 columns</p>\n",
       "</div>"
      ],
      "text/plain": [
       "                  CODE                   RAW DATE  DAY  MONTH  YEAR  \\\n",
       "DATE                                                                  \n",
       "1900-01-01  LSPA_QCAFE  1900-01-01T00:00:00-02:00    1      1  1900   \n",
       "1901-01-01  LSPA_QCAFE  1901-01-01T00:00:00-02:00    1      1  1901   \n",
       "1902-01-01  LSPA_QCAFE  1902-01-01T00:00:00-02:00    1      1  1902   \n",
       "1903-01-01  LSPA_QCAFE  1903-01-01T00:00:00-02:00    1      1  1903   \n",
       "1904-01-01  LSPA_QCAFE  1904-01-01T00:00:00-02:00    1      1  1904   \n",
       "...                ...                        ...  ...    ...   ...   \n",
       "2019-01-01  LSPA_QCAFE  2019-01-01T00:00:00-02:00    1      1  2019   \n",
       "2020-01-01  LSPA_QCAFE  2020-01-01T00:00:00-03:00    1      1  2020   \n",
       "2021-01-01  LSPA_QCAFE  2021-01-01T00:00:00-03:00    1      1  2021   \n",
       "2022-01-01  LSPA_QCAFE  2022-01-01T00:00:00-03:00    1      1  2022   \n",
       "2023-01-01  LSPA_QCAFE  2023-01-01T00:00:00-03:00    1      1  2023   \n",
       "\n",
       "            VALUE (Tonelada)  \n",
       "DATE                          \n",
       "1900-01-01          564000.0  \n",
       "1901-01-01          678000.0  \n",
       "1902-01-01          966000.0  \n",
       "1903-01-01          774000.0  \n",
       "1904-01-01          666000.0  \n",
       "...                      ...  \n",
       "2019-01-01         3011745.0  \n",
       "2020-01-01         3705719.0  \n",
       "2021-01-01         2985581.0  \n",
       "2022-01-01         3179176.0  \n",
       "2023-01-01         3405267.0  \n",
       "\n",
       "[124 rows x 6 columns]"
      ]
     },
     "metadata": {},
     "output_type": "display_data"
    }
   ],
   "source": [
    "# Questao 7\n",
    "import ipeadatapy\n",
    "\n",
    "df_prodcafe = ipeadatapy.timeseries('LSPA_QCAFE')\n",
    "display(df_prodcafe)\n"
   ]
  },
  {
   "cell_type": "code",
   "execution_count": null,
   "metadata": {},
   "outputs": [],
   "source": []
  }
 ],
 "metadata": {
  "colab": {
   "authorship_tag": "ABX9TyOOVi12uIQEylxrVu6tIlcM",
   "provenance": []
  },
  "kernelspec": {
   "display_name": "Python 3 (ipykernel)",
   "language": "python",
   "name": "python3"
  },
  "language_info": {
   "codemirror_mode": {
    "name": "ipython",
    "version": 3
   },
   "file_extension": ".py",
   "mimetype": "text/x-python",
   "name": "python",
   "nbconvert_exporter": "python",
   "pygments_lexer": "ipython3",
   "version": "3.12.7"
  }
 },
 "nbformat": 4,
 "nbformat_minor": 4
}
