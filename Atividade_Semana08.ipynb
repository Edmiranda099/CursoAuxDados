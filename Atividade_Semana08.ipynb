{
 "cells": [
  {
   "cell_type": "markdown",
   "metadata": {
    "id": "bPISwE0Is_Pu"
   },
   "source": [
    "# Atividade da Semana 08\n",
    "\n",
    "Esta é atividade semanal sugerida. Você deverá preenchê-la e enviá-la dentro do prazo (até o fechamento da semana corrente)."
   ]
  },
  {
   "cell_type": "markdown",
   "metadata": {
    "id": "RAg7REeatl9X"
   },
   "source": [
    "###Questão 1\n",
    "\n",
    "O número de veículos emplacados (ou seja, veículos que foram comprados novos) funciona como um indicador econômico que demonstra o poder aquisitivo da população em geral. Estes dados também são úteis como indicadores de saúde, uma vez que, uma frota mais nova, polui menos o ar e o número de casos de doenças respiratórias em grandes centros é reduzido.\n",
    "\n",
    "Sendo assim, a partir dos dados filtrados para 2020, calcule a média, mediana, mínimo, máximo, amplitude, variância e desvio padrão."
   ]
  },
  {
   "cell_type": "code",
   "execution_count": 31,
   "metadata": {
    "colab": {
     "base_uri": "https://localhost:8080/"
    },
    "id": "Ur80LWz2HZSZ",
    "outputId": "a2c20f47-12c3-4341-ecec-a5396cdf4a62"
   },
   "outputs": [
    {
     "name": "stdout",
     "output_type": "stream",
     "text": [
      "Requirement already satisfied: ipeadatapy in c:\\users\\edson\\anaconda3\\lib\\site-packages (0.1.9)\n",
      "Requirement already satisfied: pandas in c:\\users\\edson\\anaconda3\\lib\\site-packages (from ipeadatapy) (2.2.2)\n",
      "Requirement already satisfied: requests in c:\\users\\edson\\anaconda3\\lib\\site-packages (from ipeadatapy) (2.32.3)\n",
      "Requirement already satisfied: numpy>=1.26.0 in c:\\users\\edson\\anaconda3\\lib\\site-packages (from pandas->ipeadatapy) (1.26.4)\n",
      "Requirement already satisfied: python-dateutil>=2.8.2 in c:\\users\\edson\\anaconda3\\lib\\site-packages (from pandas->ipeadatapy) (2.9.0.post0)\n",
      "Requirement already satisfied: pytz>=2020.1 in c:\\users\\edson\\anaconda3\\lib\\site-packages (from pandas->ipeadatapy) (2024.1)\n",
      "Requirement already satisfied: tzdata>=2022.7 in c:\\users\\edson\\anaconda3\\lib\\site-packages (from pandas->ipeadatapy) (2023.3)\n",
      "Requirement already satisfied: charset-normalizer<4,>=2 in c:\\users\\edson\\anaconda3\\lib\\site-packages (from requests->ipeadatapy) (3.3.2)\n",
      "Requirement already satisfied: idna<4,>=2.5 in c:\\users\\edson\\anaconda3\\lib\\site-packages (from requests->ipeadatapy) (3.7)\n",
      "Requirement already satisfied: urllib3<3,>=1.21.1 in c:\\users\\edson\\anaconda3\\lib\\site-packages (from requests->ipeadatapy) (2.2.3)\n",
      "Requirement already satisfied: certifi>=2017.4.17 in c:\\users\\edson\\anaconda3\\lib\\site-packages (from requests->ipeadatapy) (2024.8.30)\n",
      "Requirement already satisfied: six>=1.5 in c:\\users\\edson\\anaconda3\\lib\\site-packages (from python-dateutil>=2.8.2->pandas->ipeadatapy) (1.16.0)\n",
      "Note: you may need to restart the kernel to use updated packages.\n"
     ]
    }
   ],
   "source": [
    "# Instalando o pacote 'ipeadatapy'\n",
    "%pip install ipeadatapy"
   ]
  },
  {
   "cell_type": "code",
   "execution_count": 1,
   "metadata": {
    "colab": {
     "base_uri": "https://localhost:8080/",
     "height": 460
    },
    "id": "izFFVN2Nst-F",
    "outputId": "5e3efabe-8f73-45f2-8e4f-abf516a7cb10"
   },
   "outputs": [
    {
     "data": {
      "text/plain": [
       "756    171155.0\n",
       "757    179925.0\n",
       "758    146460.0\n",
       "759     47368.0\n",
       "760     52396.0\n",
       "761    115726.0\n",
       "762    155692.0\n",
       "763    165524.0\n",
       "764    188514.0\n",
       "765    196045.0\n",
       "766    205097.0\n",
       "767    222916.0\n",
       "Name: emplacamentos, dtype: float64"
      ]
     },
     "execution_count": 1,
     "metadata": {},
     "output_type": "execute_result"
    }
   ],
   "source": [
    "# Questao 1\n",
    "\n",
    "# Carregando pacotes\n",
    "import pandas as pd\n",
    "import ipeadatapy\n",
    "\n",
    "# Obtendo serie com dados sobre emplacamento de veículos\n",
    "emplacamentos = ipeadatapy.timeseries('ANFAVE12_LICVEN12')\n",
    "emplacamentos.reset_index(inplace=True)\n",
    "emplacamentos = emplacamentos.loc[(emplacamentos[\"DATE\"] >= \"2020-01-01\") & (emplacamentos[\"DATE\"] < \"2021-01-01\"),\n",
    "                                  \"VALUE (-)\"]\n",
    "emplacamentos.rename(\"emplacamentos\", inplace=True)\n",
    "emplacamentos"
   ]
  },
  {
   "cell_type": "code",
   "execution_count": 5,
   "metadata": {
    "id": "RiMfakApHzFP"
   },
   "outputs": [
    {
     "name": "stdout",
     "output_type": "stream",
     "text": [
      "153901.5\n",
      "168339.5\n",
      "0      47368.0\n",
      "1      52396.0\n",
      "2     115726.0\n",
      "3     146460.0\n",
      "4     155692.0\n",
      "5     165524.0\n",
      "6     171155.0\n",
      "7     179925.0\n",
      "8     188514.0\n",
      "9     196045.0\n",
      "10    205097.0\n",
      "11    222916.0\n",
      "Name: emplacamentos, dtype: float64\n",
      "3148797478.6363635\n",
      "175548.0\n",
      "56114.14686722381\n"
     ]
    }
   ],
   "source": [
    "# Questao 1 (continuacao)\n",
    "\n",
    "# Calcule as estatísticas de interesse\n",
    "\n",
    "#media\n",
    "print(sum(emplacamentos) / len(emplacamentos))\n",
    "\n",
    "#mediana\n",
    "print(emplacamentos.median())\n",
    "\n",
    "#moda\n",
    "print(emplacamentos.mode())\n",
    "\n",
    "#variancia\n",
    "print(emplacamentos.var())\n",
    "\n",
    "#amplitude \n",
    "print(emplacamentos.max() - emplacamentos.min())\n",
    "\n",
    "#desvio padra0\n",
    "print(emplacamentos.std())\n",
    "\n",
    "\n"
   ]
  },
  {
   "cell_type": "markdown",
   "metadata": {
    "id": "3xNawcemugMY"
   },
   "source": [
    "###Questão 2\n",
    "\n",
    "Ao observar a base de dados utilizada na questão anterior, argumente por que a moda não é uma medida útil para descrever o número de emplacamento de automóveis ao longo dos meses de 2020."
   ]
  },
  {
   "cell_type": "markdown",
   "metadata": {
    "id": "cC5DZfq3MxGT"
   },
   "source": [
    "> Dê 2 cliques e insira sua resposta aqui:\n",
    "\n",
    "Pois a moda é muito relativa, pois como exemplo da questão anterior, nenhuma das placas são iguais, ou seja a moda não existe nesse caso, amodal, por isso não seria possivel descrever a quantidade de placas X, até porque nenhum iria aparecer, pois, como são diferentes não possuem uma frequência para descrever o numero de placas repitidas e assim fazer um leventamento."
   ]
  },
  {
   "cell_type": "markdown",
   "metadata": {
    "id": "sbXN8AoMuxvx"
   },
   "source": [
    "###Questão 3\n",
    "\n",
    "O Imposto sobre Produtos Industrializados, cuja sigla é IPI, é um imposto federal, ou seja, somente a União pode instituí-lo ou modificá-lo, sobre produtos industrializados no Brasil. Abaixo, obtemos os dados da arrecadação do IPI sobre automóveis em 2020.\n",
    "\n",
    "Calcule a correlação entre o número de veículos emplacados e o IPI arrecadado em 2020."
   ]
  },
  {
   "cell_type": "code",
   "execution_count": 7,
   "metadata": {
    "colab": {
     "base_uri": "https://localhost:8080/",
     "height": 426
    },
    "id": "YxUJOpR2uyFh",
    "outputId": "33f3161a-04dd-4be7-a212-53742c59af8d"
   },
   "outputs": [
    {
     "data": {
      "text/html": [
       "<div>\n",
       "<style scoped>\n",
       "    .dataframe tbody tr th:only-of-type {\n",
       "        vertical-align: middle;\n",
       "    }\n",
       "\n",
       "    .dataframe tbody tr th {\n",
       "        vertical-align: top;\n",
       "    }\n",
       "\n",
       "    .dataframe thead th {\n",
       "        text-align: right;\n",
       "    }\n",
       "</style>\n",
       "<table border=\"1\" class=\"dataframe\">\n",
       "  <thead>\n",
       "    <tr style=\"text-align: right;\">\n",
       "      <th></th>\n",
       "      <th>emplacamentos</th>\n",
       "      <th>ipi</th>\n",
       "    </tr>\n",
       "  </thead>\n",
       "  <tbody>\n",
       "    <tr>\n",
       "      <th>0</th>\n",
       "      <td>171155.0</td>\n",
       "      <td>4785.822271</td>\n",
       "    </tr>\n",
       "    <tr>\n",
       "      <th>1</th>\n",
       "      <td>179925.0</td>\n",
       "      <td>4286.729125</td>\n",
       "    </tr>\n",
       "    <tr>\n",
       "      <th>2</th>\n",
       "      <td>146460.0</td>\n",
       "      <td>4284.937666</td>\n",
       "    </tr>\n",
       "    <tr>\n",
       "      <th>3</th>\n",
       "      <td>47368.0</td>\n",
       "      <td>3593.955607</td>\n",
       "    </tr>\n",
       "    <tr>\n",
       "      <th>4</th>\n",
       "      <td>52396.0</td>\n",
       "      <td>3251.181033</td>\n",
       "    </tr>\n",
       "    <tr>\n",
       "      <th>5</th>\n",
       "      <td>115726.0</td>\n",
       "      <td>3606.153437</td>\n",
       "    </tr>\n",
       "    <tr>\n",
       "      <th>6</th>\n",
       "      <td>155692.0</td>\n",
       "      <td>4296.958069</td>\n",
       "    </tr>\n",
       "    <tr>\n",
       "      <th>7</th>\n",
       "      <td>165524.0</td>\n",
       "      <td>5055.511196</td>\n",
       "    </tr>\n",
       "    <tr>\n",
       "      <th>8</th>\n",
       "      <td>188514.0</td>\n",
       "      <td>5670.267089</td>\n",
       "    </tr>\n",
       "    <tr>\n",
       "      <th>9</th>\n",
       "      <td>196045.0</td>\n",
       "      <td>6059.809830</td>\n",
       "    </tr>\n",
       "    <tr>\n",
       "      <th>10</th>\n",
       "      <td>205097.0</td>\n",
       "      <td>6967.422618</td>\n",
       "    </tr>\n",
       "    <tr>\n",
       "      <th>11</th>\n",
       "      <td>222916.0</td>\n",
       "      <td>6430.460602</td>\n",
       "    </tr>\n",
       "  </tbody>\n",
       "</table>\n",
       "</div>"
      ],
      "text/plain": [
       "    emplacamentos          ipi\n",
       "0        171155.0  4785.822271\n",
       "1        179925.0  4286.729125\n",
       "2        146460.0  4284.937666\n",
       "3         47368.0  3593.955607\n",
       "4         52396.0  3251.181033\n",
       "5        115726.0  3606.153437\n",
       "6        155692.0  4296.958069\n",
       "7        165524.0  5055.511196\n",
       "8        188514.0  5670.267089\n",
       "9        196045.0  6059.809830\n",
       "10       205097.0  6967.422618\n",
       "11       222916.0  6430.460602"
      ]
     },
     "execution_count": 7,
     "metadata": {},
     "output_type": "execute_result"
    }
   ],
   "source": [
    "# Questao 3\n",
    "\n",
    "# Obtendo serie com dados sobre IPI arrecadado sobre automóveis\n",
    "ipi = ipeadatapy.timeseries('SRF12_IPI12')\n",
    "ipi.reset_index(inplace=True)\n",
    "ipi = ipi.loc[(ipi[\"DATE\"] >= \"2020-01-01\") & (ipi[\"DATE\"] < \"2021-01-01\"),\n",
    "                                  \"VALUE (R$)\"]\n",
    "ipi.rename(\"ipi\", inplace=True)\n",
    "\n",
    "carros = pd.concat([emplacamentos.reset_index(drop=True),\n",
    "                    ipi.reset_index(drop=True)],\n",
    "                   axis=1)\n",
    "carros"
   ]
  },
  {
   "cell_type": "code",
   "execution_count": 8,
   "metadata": {
    "id": "9CCVuw1_QfGu"
   },
   "outputs": [
    {
     "data": {
      "text/html": [
       "<div>\n",
       "<style scoped>\n",
       "    .dataframe tbody tr th:only-of-type {\n",
       "        vertical-align: middle;\n",
       "    }\n",
       "\n",
       "    .dataframe tbody tr th {\n",
       "        vertical-align: top;\n",
       "    }\n",
       "\n",
       "    .dataframe thead th {\n",
       "        text-align: right;\n",
       "    }\n",
       "</style>\n",
       "<table border=\"1\" class=\"dataframe\">\n",
       "  <thead>\n",
       "    <tr style=\"text-align: right;\">\n",
       "      <th></th>\n",
       "      <th>emplacamentos</th>\n",
       "      <th>ipi</th>\n",
       "    </tr>\n",
       "  </thead>\n",
       "  <tbody>\n",
       "    <tr>\n",
       "      <th>emplacamentos</th>\n",
       "      <td>1.00000</td>\n",
       "      <td>0.85234</td>\n",
       "    </tr>\n",
       "    <tr>\n",
       "      <th>ipi</th>\n",
       "      <td>0.85234</td>\n",
       "      <td>1.00000</td>\n",
       "    </tr>\n",
       "  </tbody>\n",
       "</table>\n",
       "</div>"
      ],
      "text/plain": [
       "               emplacamentos      ipi\n",
       "emplacamentos        1.00000  0.85234\n",
       "ipi                  0.85234  1.00000"
      ]
     },
     "execution_count": 8,
     "metadata": {},
     "output_type": "execute_result"
    }
   ],
   "source": [
    "# Questao 3 (continuacao)\n",
    "\n",
    "# Calcule a correlacao entre o numero de emplacamentos e o IPI recolhido pela União.\n",
    "carros.corr()\n"
   ]
  },
  {
   "cell_type": "markdown",
   "metadata": {
    "id": "b_9DPA3nRV0W"
   },
   "source": [
    "###Questão 4\n",
    "\n",
    "Com a base de dados `carros`, faça um gráfico de dispersão utilizando `plt.scatter` entre `emplacamentos` e `ipi`."
   ]
  },
  {
   "cell_type": "code",
   "execution_count": 13,
   "metadata": {
    "id": "WhlmC6LESPca"
   },
   "outputs": [
    {
     "data": {
      "image/png": "[encoded data removed]",
      "text/plain": [
       "<Figure size 640x480 with 4 Axes>"
      ]
     },
     "metadata": {},
     "output_type": "display_data"
    }
   ],
   "source": [
    "# Questao 4\n",
    "from matplotlib import pyplot as plt\n",
    "\n",
    "# Grafico de dispersao\n",
    "\n",
    "pd.plotting.scatter_matrix(carros)\n",
    "\n",
    "\n",
    "\n",
    "\n",
    "\n",
    "\n",
    "# Exibe o grafico\n",
    "plt.show()"
   ]
  },
  {
   "cell_type": "markdown",
   "metadata": {
    "id": "8LNVxN-DvqpU"
   },
   "source": [
    "###Questão 5\n",
    "\n",
    "Com base nas questões 3 e 4, como você interpretaria o valor do coeficiente de correlação observado? O que ocorre com a arrecadação do IPI quando o número de veículos emplacados aumenta?"
   ]
  },
  {
   "cell_type": "markdown",
   "metadata": {
    "id": "_CSYvHYURQJL"
   },
   "source": [
    "> Dê 2 cliques e insira sua resposta aqui: \n",
    "temos uma correlação forte positiva e quando o numero de veiculos emplacados almenta a api sobe"
   ]
  },
  {
   "cell_type": "markdown",
   "metadata": {},
   "source": []
  }
 ],
 "metadata": {
  "colab": {
   "provenance": []
  },
  "kernelspec": {
   "display_name": "base",
   "language": "python",
   "name": "python3"
  },
  "language_info": {
   "codemirror_mode": {
    "name": "ipython",
    "version": 3
   },
   "file_extension": ".py",
   "mimetype": "text/x-python",
   "name": "python",
   "nbconvert_exporter": "python",
   "pygments_lexer": "ipython3",
   "version": "3.12.7"
  }
 },
 "nbformat": 4,
 "nbformat_minor": 0
}
